{
 "cells": [
  {
   "cell_type": "code",
   "execution_count": 38,
   "metadata": {},
   "outputs": [],
   "source": [
    "# # Instantiate a new Clarifai app by passing in your API key.\n",
    "# my_key = '7d510b6458924c1eabf9401e57013d65'\n",
    "# app = ClarifaiApp(api_key=my_key)\n",
    "\n",
    "# # Choose one of the public models.\n",
    "# model = app.public_models.general_model\n",
    "\n",
    "# # Predict the contents of an image by passing in a URL.\n",
    "# response = model.predict_by_url(url='https://samples.clarifai.com/metro-north.jpg')"
   ]
  },
  {
   "cell_type": "code",
   "execution_count": 161,
   "metadata": {},
   "outputs": [],
   "source": [
    "# use this\n",
    "danger_low_list = ['toy','stand']\n",
    "danger_high_list = ['knife','drink','fire']\n",
    "missing_list = ['child','baby']"
   ]
  },
  {
   "cell_type": "code",
   "execution_count": 162,
   "metadata": {},
   "outputs": [],
   "source": [
    "# use this\n",
    "from clarifai.rest import ClarifaiApp\n",
    "\n",
    "def is_something(parameters):\n",
    "    \n",
    "    [api_key,image_filepath,string_list,threshold] = parameters\n",
    "    \n",
    "\n",
    "    # Instantiate a new Clarifai app by passing in your API key.\n",
    "    app = ClarifaiApp(api_key=api_key)\n",
    "\n",
    "    # Choose one of the public models.\n",
    "    model = app.public_models.general_model\n",
    "\n",
    "    # Predict the contents of an image by passing in a URL.\n",
    "    response = model.predict_by_filename(image_filepath, max_concepts=200)\n",
    "\n",
    "    #Interate through response to find baby or child percentage\n",
    "    relevant = []\n",
    "\n",
    "    for result in response['outputs'][0]['data']['concepts']:\n",
    "        if result['name'] in string_list and result['value'] > threshold:\n",
    "                relevant.append(result['name'])\n",
    "\n",
    "    return relevant"
   ]
  },
  {
   "cell_type": "code",
   "execution_count": 163,
   "metadata": {},
   "outputs": [
    {
     "name": "stdout",
     "output_type": "stream",
     "text": [
      "['child', 'baby'] ['toy'] []\n"
     ]
    }
   ],
   "source": [
    "# use this\n",
    "image = 'stand_baby.jpg'\n",
    "general = lambda x: is_something(x)\n",
    "isBaby = general([my_key, image, missing_list,0.9])\n",
    "detectLowDanger = general([my_key, image, danger_low_list,0])\n",
    "detectHighDanger = general([my_key, image,danger_high_list,0.1])\n",
    "print(isBaby,detectLowDanger,detectHighDanger)"
   ]
  },
  {
   "cell_type": "code",
   "execution_count": 153,
   "metadata": {},
   "outputs": [],
   "source": [
    "# image_filepath = 'stand_baby.jpg'\n",
    "# app = ClarifaiApp(api_key=my_key)\n",
    "# model = app.public_models.general_model\n",
    "# response = model.predict_by_filename(image_filepath, max_concepts=200)"
   ]
  },
  {
   "cell_type": "code",
   "execution_count": 157,
   "metadata": {
    "scrolled": true
   },
   "outputs": [],
   "source": [
    "# concepts_d = response['outputs'][0]['data']['concepts']\n",
    "# l = danger_list + missing_list\n",
    "# l = ['climb']\n",
    "# for concept in concepts_d:\n",
    "#     if concept['name'] in l:\n",
    "#         print(concept)"
   ]
  },
  {
   "cell_type": "markdown",
   "metadata": {},
   "source": [
    "![alt text](drink_baby.jpg)"
   ]
  },
  {
   "cell_type": "markdown",
   "metadata": {},
   "source": [
    "Need to determine appropriate threshold for each item\n",
    "sleep\n",
    "sit\n",
    "toy\n",
    "knife\n",
    "\n",
    "could put labels on images train some simple classification model then compare with what clarify thinks the probabilities are and take a threshold that predicts the correctly (95%) of the time."
   ]
  },
  {
   "cell_type": "code",
   "execution_count": 106,
   "metadata": {},
   "outputs": [],
   "source": [
    "import sklearn"
   ]
  },
  {
   "cell_type": "code",
   "execution_count": null,
   "metadata": {},
   "outputs": [],
   "source": [
    "sklearn."
   ]
  }
 ],
 "metadata": {
  "kernelspec": {
   "display_name": "Python 3",
   "language": "python",
   "name": "python3"
  },
  "language_info": {
   "codemirror_mode": {
    "name": "ipython",
    "version": 3
   },
   "file_extension": ".py",
   "mimetype": "text/x-python",
   "name": "python",
   "nbconvert_exporter": "python",
   "pygments_lexer": "ipython3",
   "version": "3.6.6"
  }
 },
 "nbformat": 4,
 "nbformat_minor": 2
}
