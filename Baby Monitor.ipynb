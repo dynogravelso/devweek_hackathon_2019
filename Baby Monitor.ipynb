{
 "cells": [
  {
   "cell_type": "code",
   "execution_count": 38,
   "metadata": {},
   "outputs": [],
   "source": [
    "# # Instantiate a new Clarifai app by passing in your API key.\n",
    "# my_key = '7d510b6458924c1eabf9401e57013d65'\n",
    "# app = ClarifaiApp(api_key=my_key)\n",
    "\n",
    "# # Choose one of the public models.\n",
    "# model = app.public_models.general_model\n",
    "\n",
    "# # Predict the contents of an image by passing in a URL.\n",
    "# response = model.predict_by_url(url='https://samples.clarifai.com/metro-north.jpg')"
   ]
  },
  {
   "cell_type": "code",
   "execution_count": 176,
   "metadata": {},
   "outputs": [],
   "source": [
    "# use this\n",
    "danger_low_list = ['toy','stand']\n",
    "danger_high_list = ['knife','drink','flame','burn']\n",
    "missing_list = ['child','baby']"
   ]
  },
  {
   "cell_type": "code",
   "execution_count": 177,
   "metadata": {},
   "outputs": [],
   "source": [
    "# use this\n",
    "from clarifai.rest import ClarifaiApp\n",
    "\n",
    "def is_something(parameters):\n",
    "    \n",
    "    [api_key,image_filepath,string_list,threshold] = parameters\n",
    "    \n",
    "\n",
    "    # Instantiate a new Clarifai app by passing in your API key.\n",
    "    app = ClarifaiApp(api_key=api_key)\n",
    "\n",
    "    # Choose one of the public models.\n",
    "    model = app.public_models.general_model\n",
    "\n",
    "    # Predict the contents of an image by passing in a URL.\n",
    "    response = model.predict_by_filename(image_filepath, max_concepts=200)\n",
    "\n",
    "    #Interate through response to find baby or child percentage\n",
    "    relevant = []\n",
    "\n",
    "    for result in response['outputs'][0]['data']['concepts']:\n",
    "        if result['name'] in string_list and result['value'] > threshold:\n",
    "                relevant.append(result['name'])\n",
    "\n",
    "    return relevant"
   ]
  },
  {
   "cell_type": "code",
   "execution_count": 178,
   "metadata": {},
   "outputs": [],
   "source": [
    "# use this\n",
    "image = 'fire_baby.jpg'\n",
    "general = lambda x: is_something(x)\n",
    "isBaby = general([my_key, image, missing_list,0.9])\n",
    "detectLowDanger = general([my_key, image, danger_low_list,0])\n",
    "detectHighDanger = general([my_key, image,danger_high_list,0.1])"
   ]
  },
  {
   "cell_type": "code",
   "execution_count": 179,
   "metadata": {},
   "outputs": [
    {
     "name": "stdout",
     "output_type": "stream",
     "text": [
      "[] [] ['flame', 'burn']\n"
     ]
    }
   ],
   "source": [
    "print(isBaby, detectLowDanger, detectHighDanger)"
   ]
  },
  {
   "cell_type": "code",
   "execution_count": 170,
   "metadata": {},
   "outputs": [],
   "source": [
    "image_filepath = 'fire_baby.jpg'\n",
    "app = ClarifaiApp(api_key=my_key)\n",
    "model = app.public_models.general_model\n",
    "response = model.predict_by_filename(image_filepath, max_concepts=200)"
   ]
  },
  {
   "cell_type": "code",
   "execution_count": 171,
   "metadata": {},
   "outputs": [
    {
     "name": "stdout",
     "output_type": "stream",
     "text": [
      "[{'id': 'ai_ghzMM5qc', 'name': 'flame', 'value': 0.9997310638427734, 'app_id': 'main'}, {'id': 'ai_C3sXn10x', 'name': 'heat', 'value': 0.9981144666671753, 'app_id': 'main'}, {'id': 'ai_pfHW6kFx', 'name': 'burnt', 'value': 0.9952384233474731, 'app_id': 'main'}, {'id': 'ai_mrWb5vrZ', 'name': 'hot', 'value': 0.9921971559524536, 'app_id': 'main'}, {'id': 'ai_pTQ9mfGc', 'name': 'fireplace', 'value': 0.9848952293395996, 'app_id': 'main'}, {'id': 'ai_DhsGc87h', 'name': 'bonfire', 'value': 0.9779896140098572, 'app_id': 'main'}, {'id': 'ai_pPRC6LFw', 'name': 'flammable', 'value': 0.9768677949905396, 'app_id': 'main'}, {'id': 'ai_swtdphX8', 'name': 'love', 'value': 0.9728235006332397, 'app_id': 'main'}, {'id': 'ai_KksWsQ0t', 'name': 'campfire', 'value': 0.970971941947937, 'app_id': 'main'}, {'id': 'ai_5cvC29fg', 'name': 'smoke', 'value': 0.9563791751861572, 'app_id': 'main'}, {'id': 'ai_V6cl10j7', 'name': 'burn', 'value': 0.9540877342224121, 'app_id': 'main'}, {'id': 'ai_wmbvr5TG', 'name': 'celebration', 'value': 0.9472023248672485, 'app_id': 'main'}, {'id': 'ai_6pRrC0WT', 'name': 'danger', 'value': 0.9417885541915894, 'app_id': 'main'}, {'id': 'ai_xpHVGRFm', 'name': 'candle', 'value': 0.9353519082069397, 'app_id': 'main'}, {'id': 'ai_V2F286Wn', 'name': 'fun', 'value': 0.9073772430419922, 'app_id': 'main'}, {'id': 'ai_Mp5RSN3d', 'name': 'warmly', 'value': 0.9038692116737366, 'app_id': 'main'}, {'id': 'ai_kBPCVvBx', 'name': 'firewood', 'value': 0.9007729291915894, 'app_id': 'main'}, {'id': 'ai_4sJLn6nX', 'name': 'dark', 'value': 0.8965554237365723, 'app_id': 'main'}, {'id': 'ai_l8TKp2h5', 'name': 'people', 'value': 0.8843282461166382, 'app_id': 'main'}, {'id': 'ai_1M4mFh6t', 'name': 'energy', 'value': 0.8651900291442871, 'app_id': 'main'}, {'id': 'ai_b01mhdxB', 'name': 'party', 'value': 0.8620771169662476, 'app_id': 'main'}, {'id': 'ai_hwN1N4n7', 'name': 'romance', 'value': 0.8577862977981567, 'app_id': 'main'}, {'id': 'ai_9ZFRtkj8', 'name': 'inferno', 'value': 0.8502429127693176, 'app_id': 'main'}, {'id': 'ai_mvRRZ5Mq', 'name': 'happiness', 'value': 0.8416398167610168, 'app_id': 'main'}, {'id': 'ai_BftWD7Gr', 'name': 'ignite', 'value': 0.8387739658355713, 'app_id': 'main'}, {'id': 'ai_TQq4t6nZ', 'name': 'blaze', 'value': 0.834685742855072, 'app_id': 'main'}, {'id': 'ai_5Nh58JzD', 'name': 'joy', 'value': 0.8319594860076904, 'app_id': 'main'}, {'id': 'ai_TJ9wFfK5', 'name': 'portrait', 'value': 0.8216782212257385, 'app_id': 'main'}, {'id': 'ai_n9vjC1jB', 'name': 'light', 'value': 0.8182995319366455, 'app_id': 'main'}, {'id': 'ai_ccZ7tNd3', 'name': 'illuminated', 'value': 0.8152505159378052, 'app_id': 'main'}, {'id': 'ai_mKzmkKDG', 'name': 'Christmas', 'value': 0.8135219812393188, 'app_id': 'main'}, {'id': 'ai_RQccV41p', 'name': 'woman', 'value': 0.8023265600204468, 'app_id': 'main'}, {'id': 'ai_7v5ZM3Xp', 'name': 'witchcraft', 'value': 0.7997640371322632, 'app_id': 'main'}, {'id': 'ai_94cQBGlt', 'name': 'two', 'value': 0.7949795722961426, 'app_id': 'main'}, {'id': 'ai_qQfFFhsc', 'name': 'togetherness', 'value': 0.7909098863601685, 'app_id': 'main'}, {'id': 'ai_jRW06RWG', 'name': 'luminescence', 'value': 0.7901129722595215, 'app_id': 'main'}, {'id': 'ai_dxSG2s86', 'name': 'man', 'value': 0.7897028923034668, 'app_id': 'main'}, {'id': 'ai_7Clkdv3N', 'name': 'coal', 'value': 0.7831097841262817, 'app_id': 'main'}, {'id': 'ai_WVqvl80m', 'name': 'magic', 'value': 0.7786610126495361, 'app_id': 'main'}, {'id': 'ai_VPmHr5bm', 'name': 'adult', 'value': 0.7753667831420898, 'app_id': 'main'}, {'id': 'ai_BpnQsTtg', 'name': 'young', 'value': 0.7752270698547363, 'app_id': 'main'}, {'id': 'ai_53zvs8rK', 'name': 'ash', 'value': 0.7539726495742798, 'app_id': 'main'}, {'id': 'ai_Hmtb72Sq', 'name': 'cozy', 'value': 0.7533354759216309, 'app_id': 'main'}, {'id': 'ai_Zmhsv0Ch', 'name': 'outdoors', 'value': 0.7463563680648804, 'app_id': 'main'}, {'id': 'ai_13NdwKqz', 'name': 'festival', 'value': 0.7281132936477661, 'app_id': 'main'}, {'id': 'ai_Kf5xhjHH', 'name': 'tongue', 'value': 0.722878098487854, 'app_id': 'main'}, {'id': 'ai_gR8xF1NR', 'name': 'warmth', 'value': 0.717483639717102, 'app_id': 'main'}, {'id': 'ai_j09mzT6j', 'name': 'family', 'value': 0.7109825611114502, 'app_id': 'main'}, {'id': 'ai_PJQHT1jg', 'name': 'evening', 'value': 0.7085676193237305, 'app_id': 'main'}, {'id': 'ai_vz98nDK9', 'name': 'beautiful', 'value': 0.7079899907112122, 'app_id': 'main'}, {'id': 'ai_BlNFRx24', 'name': 'candlelight', 'value': 0.6974044442176819, 'app_id': 'main'}, {'id': 'ai_lzV0QHV8', 'name': 'temperature', 'value': 0.6896106004714966, 'app_id': 'main'}, {'id': 'ai_ZcLhhfwr', 'name': 'marshmallow', 'value': 0.688168466091156, 'app_id': 'main'}, {'id': 'ai_KK6HW3mS', 'name': 'romantic', 'value': 0.6865586042404175, 'app_id': 'main'}, {'id': 'ai_kCt1GgkM', 'name': 'camp', 'value': 0.6814285516738892, 'app_id': 'main'}, {'id': 'ai_9BThwqc8', 'name': 'fuel', 'value': 0.6772507429122925, 'app_id': 'main'}, {'id': 'ai_qcLd7fgc', 'name': 'child', 'value': 0.6610473394393921, 'app_id': 'main'}, {'id': 'ai_SQHBcbH1', 'name': 'furnace', 'value': 0.6525696516036987, 'app_id': 'main'}, {'id': 'ai_mvzv0n0w', 'name': 'vicious', 'value': 0.6454231142997742, 'app_id': 'main'}, {'id': 'ai_9pWqzvmM', 'name': 'calamity', 'value': 0.63945472240448, 'app_id': 'main'}, {'id': 'ai_7qwGxLch', 'name': 'gold', 'value': 0.6358020305633545, 'app_id': 'main'}, {'id': 'ai_tBcWlsCp', 'name': 'nature', 'value': 0.5996025204658508, 'app_id': 'main'}, {'id': 'ai_3DGtDKQp', 'name': 'couple', 'value': 0.5937568545341492, 'app_id': 'main'}, {'id': 'ai_4CRlSvbV', 'name': 'cute', 'value': 0.5895978808403015, 'app_id': 'main'}, {'id': 'ai_DqkHZlVW', 'name': 'relaxation', 'value': 0.5863844156265259, 'app_id': 'main'}, {'id': 'ai_B2jgbfMr', 'name': 'torch', 'value': 0.5850793123245239, 'app_id': 'main'}, {'id': 'ai_FsT0Zqdb', 'name': 'summer', 'value': 0.5565842986106873, 'app_id': 'main'}, {'id': 'ai_FwtMR9mk', 'name': 'motion', 'value': 0.5507750511169434, 'app_id': 'main'}, {'id': 'ai_Bs7Qsx2t', 'name': 'enjoyment', 'value': 0.5482571125030518, 'app_id': 'main'}, {'id': 'ai_F1XQVcQK', 'name': 'Satan', 'value': 0.5478764772415161, 'app_id': 'main'}, {'id': 'ai_SVshtN54', 'name': 'one', 'value': 0.5441928505897522, 'app_id': 'main'}, {'id': 'ai_LxrzLJmf', 'name': 'bright', 'value': 0.5411760807037354, 'app_id': 'main'}, {'id': 'ai_xQbBc1zb', 'name': 'girl', 'value': 0.5405535101890564, 'app_id': 'main'}, {'id': 'ai_358VqvJT', 'name': 'religion', 'value': 0.5361891388893127, 'app_id': 'main'}, {'id': 'ai_s0vnWcwJ', 'name': 'cheerful', 'value': 0.5329746007919312, 'app_id': 'main'}, {'id': 'ai_FLxBx1Cz', 'name': 'ceremony', 'value': 0.5302433967590332, 'app_id': 'main'}, {'id': 'ai_kC7TpVtp', 'name': 'spirituality', 'value': 0.5202329158782959, 'app_id': 'main'}, {'id': 'ai_XKKSSsP1', 'name': 'charcoal', 'value': 0.5173279643058777, 'app_id': 'main'}, {'id': 'ai_vfV1Zf9w', 'name': 'horizontal', 'value': 0.516571044921875, 'app_id': 'main'}, {'id': 'ai_vhvTrLRT', 'name': 'affection', 'value': 0.502672553062439, 'app_id': 'main'}, {'id': 'ai_cdKNWm4t', 'name': 'desire', 'value': 0.502374529838562, 'app_id': 'main'}, {'id': 'ai_1W3Gfjzg', 'name': 'vacation', 'value': 0.4997677505016327, 'app_id': 'main'}, {'id': 'ai_H40bd16J', 'name': 'friendship', 'value': 0.4960944652557373, 'app_id': 'main'}, {'id': 'ai_BbM8D022', 'name': 'mystery', 'value': 0.49575120210647583, 'app_id': 'main'}, {'id': 'ai_23p8Lb8k', 'name': 'dusk', 'value': 0.4835246205329895, 'app_id': 'main'}, {'id': 'ai_LdknGKq0', 'name': 'rebellion', 'value': 0.48199141025543213, 'app_id': 'main'}, {'id': 'ai_zXhVrrgw', 'name': 'lifestyle', 'value': 0.48153239488601685, 'app_id': 'main'}, {'id': 'ai_Lq00FggW', 'name': 'desktop', 'value': 0.47922366857528687, 'app_id': 'main'}, {'id': 'ai_rJGvwlP0', 'name': 'insubstantial', 'value': 0.47813063859939575, 'app_id': 'main'}, {'id': 'ai_h5XcQZfx', 'name': 'laughing', 'value': 0.4663551449775696, 'app_id': 'main'}, {'id': 'ai_BqBLswWL', 'name': 'wildfire', 'value': 0.4546642303466797, 'app_id': 'main'}, {'id': 'ai_LsV8BTbr', 'name': 'pretty', 'value': 0.45441609621047974, 'app_id': 'main'}, {'id': 'ai_XPtvvkfn', 'name': 'battle', 'value': 0.4351678788661957, 'app_id': 'main'}, {'id': 'ai_3Gk64mZW', 'name': 'infinity', 'value': 0.4349591135978699, 'app_id': 'main'}, {'id': 'ai_Pf2b7clG', 'name': 'indoors', 'value': 0.4336715340614319, 'app_id': 'main'}, {'id': 'ai_QFdmjqjk', 'name': 'furious', 'value': 0.4329001307487488, 'app_id': 'main'}, {'id': 'ai_9fQBzNBM', 'name': 'looking', 'value': 0.4323938488960266, 'app_id': 'main'}, {'id': 'ai_WZs9ppM6', 'name': 'Halloween', 'value': 0.4323071539402008, 'app_id': 'main'}, {'id': 'ai_HkqZwBbr', 'name': 'little', 'value': 0.43212348222732544, 'app_id': 'main'}, {'id': 'ai_3PlgVmlN', 'name': 'food', 'value': 0.41466212272644043, 'app_id': 'main'}, {'id': 'ai_GxSDhQ34', 'name': 'facial expression', 'value': 0.405208945274353, 'app_id': 'main'}, {'id': 'ai_XNxf76KN', 'name': 'sunset', 'value': 0.4035141170024872, 'app_id': 'main'}, {'id': 'ai_V1FjkFXr', 'name': 'leisure', 'value': 0.4018626809120178, 'app_id': 'main'}, {'id': 'ai_TNc4ZR2p', 'name': 'myth', 'value': 0.40117931365966797, 'app_id': 'main'}, {'id': 'ai_5mgGJnNc', 'name': 'baby', 'value': 0.3945165276527405, 'app_id': 'main'}, {'id': 'ai_mvRgk1pz', 'name': 'influencer', 'value': 0.38585853576660156, 'app_id': 'main'}, {'id': 'ai_lm3v1c0c', 'name': 'smile', 'value': 0.38245031237602234, 'app_id': 'main'}, {'id': 'ai_1ZpNFz6T', 'name': 'abstraction', 'value': 0.36919915676116943, 'app_id': 'main'}, {'id': 'ai_XNzGRk0F', 'name': 'side view', 'value': 0.3659002482891083, 'app_id': 'main'}, {'id': 'ai_HP6qMkcb', 'name': 'creativity', 'value': 0.35309159755706787, 'app_id': 'main'}, {'id': 'ai_0tQb1SfR', 'name': 'fireball', 'value': 0.35069334506988525, 'app_id': 'main'}, {'id': 'ai_2NSZJbtp', 'name': 'glare', 'value': 0.34613656997680664, 'app_id': 'main'}, {'id': 'ai_325FlCBf', 'name': 'performance', 'value': 0.3443394899368286, 'app_id': 'main'}, {'id': 'ai_FBbddck7', 'name': 'birthday', 'value': 0.3396448493003845, 'app_id': 'main'}, {'id': 'ai_hKbvQtBD', 'name': 'vitality', 'value': 0.3345750570297241, 'app_id': 'main'}, {'id': 'ai_rpx8H4Mn', 'name': 'sexy', 'value': 0.3312531113624573, 'app_id': 'main'}, {'id': 'ai_lrTHSPdB', 'name': 'action', 'value': 0.32669615745544434, 'app_id': 'main'}, {'id': 'ai_R67cVW5t', 'name': 'sit', 'value': 0.32629817724227905, 'app_id': 'main'}, {'id': 'ai_2347DjJW', 'name': 'behavior', 'value': 0.3260062038898468, 'app_id': 'main'}, {'id': 'ai_0lV2zjMf', 'name': 'relationship', 'value': 0.3212684392929077, 'app_id': 'main'}, {'id': 'ai_8rNgfppJ', 'name': 'symbol', 'value': 0.31796979904174805, 'app_id': 'main'}, {'id': 'ai_FLHjHgCK', 'name': 'harmony', 'value': 0.316552072763443, 'app_id': 'main'}, {'id': 'ai_NTLVTGHR', 'name': 'fantasy', 'value': 0.3155234158039093, 'app_id': 'main'}, {'id': 'ai_r6QL8tP2', 'name': 'passion', 'value': 0.3087921738624573, 'app_id': 'main'}, {'id': 'ai_XCT4hzXX', 'name': 'arson', 'value': 0.30804556608200073, 'app_id': 'main'}, {'id': 'ai_p05ZRNJl', 'name': 'interaction', 'value': 0.3036039471626282, 'app_id': 'main'}, {'id': 'ai_vsnjzvPC', 'name': 'dancing', 'value': 0.29926103353500366, 'app_id': 'main'}, {'id': 'ai_j24fkmxs', 'name': 'campsite', 'value': 0.298332542181015, 'app_id': 'main'}, {'id': 'ai_bn5RWwVg', 'name': 'coal fuel', 'value': 0.29531049728393555, 'app_id': 'main'}, {'id': 'ai_JT9JwVTB', 'name': 'imagery', 'value': 0.29371148347854614, 'app_id': 'main'}, {'id': 'ai_s0Sqh1xL', 'name': 'anniversary', 'value': 0.29359757900238037, 'app_id': 'main'}, {'id': 'ai_8jtPl3Xj', 'name': 'face', 'value': 0.28890323638916016, 'app_id': 'main'}, {'id': 'ai_RZwfMCvf', 'name': 'combustion', 'value': 0.2878643870353699, 'app_id': 'main'}, {'id': 'ai_0mCQLwrm', 'name': 'healthy', 'value': 0.2866644263267517, 'app_id': 'main'}, {'id': 'ai_sM3Bb2Vh', 'name': 'illumine', 'value': 0.2842191755771637, 'app_id': 'main'}, {'id': 'ai_DHMCQncw', 'name': 'natural gas', 'value': 0.2818795442581177, 'app_id': 'main'}, {'id': 'ai_hmpsf2PM', 'name': 'son', 'value': 0.28139981627464294, 'app_id': 'main'}, {'id': 'ai_RwbC1xvD', 'name': 'attractive', 'value': 0.28036248683929443, 'app_id': 'main'}, {'id': 'ai_1d4Qk7Nr', 'name': 'sun', 'value': 0.2776181697845459, 'app_id': 'main'}, {'id': 'ai_L92T2QtK', 'name': 'decoration', 'value': 0.27620211243629456, 'app_id': 'main'}, {'id': 'ai_ZKJ48TFz', 'name': 'person', 'value': 0.2731136083602905, 'app_id': 'main'}, {'id': 'ai_Dx8JD0Rm', 'name': 'spark', 'value': 0.27306050062179565, 'app_id': 'main'}, {'id': 'ai_wX5DR7nj', 'name': 'melting', 'value': 0.26925939321517944, 'app_id': 'main'}, {'id': 'ai_LM64MDHs', 'name': 'shining', 'value': 0.26396268606185913, 'app_id': 'main'}, {'id': 'ai_FXj5ZSnd', 'name': 'melt', 'value': 0.26317793130874634, 'app_id': 'main'}, {'id': 'ai_BswKX6Bk', 'name': 'christmas tree', 'value': 0.25999122858047485, 'app_id': 'main'}, {'id': 'ai_sTjX6dqC', 'name': 'abstract', 'value': 0.25745949149131775, 'app_id': 'main'}, {'id': 'ai_k76BrtPJ', 'name': 'music', 'value': 0.2518004775047302, 'app_id': 'main'}, {'id': 'ai_786Zr311', 'name': 'no person', 'value': 0.2509029805660248, 'app_id': 'main'}, {'id': 'ai_LgcKQsG9', 'name': 'ignition', 'value': 0.2478601336479187, 'app_id': 'main'}, {'id': 'ai_2FHPKk9B', 'name': 'winter', 'value': 0.24745476245880127, 'app_id': 'main'}, {'id': 'ai_J0hdZm36', 'name': 'care', 'value': 0.24361658096313477, 'app_id': 'main'}, {'id': 'ai_wS8njvSH', 'name': 'eternity', 'value': 0.24309855699539185, 'app_id': 'main'}, {'id': 'ai_QZzLg0JL', 'name': 'affectionate', 'value': 0.24250124394893646, 'app_id': 'main'}, {'id': 'ai_MHt5rghx', 'name': 'flare', 'value': 0.24125656485557556, 'app_id': 'main'}, {'id': 'ai_zFnPQdgB', 'name': 'wood', 'value': 0.240658700466156, 'app_id': 'main'}, {'id': 'ai_sgdd18QD', 'name': 'bonding', 'value': 0.2375008463859558, 'app_id': 'main'}, {'id': 'ai_VRmbGVWh', 'name': 'travel', 'value': 0.2369665503501892, 'app_id': 'main'}, {'id': 'ai_KTVs6s9T', 'name': 'three', 'value': 0.23212912678718567, 'app_id': 'main'}, {'id': 'ai_hqBPlZlP', 'name': 'picnic', 'value': 0.23053807020187378, 'app_id': 'main'}, {'id': 'ai_7WNVdPhm', 'name': 'competition', 'value': 0.22743800282478333, 'app_id': 'main'}, {'id': 'ai_4P325wNx', 'name': 'fireworks', 'value': 0.22656983137130737, 'app_id': 'main'}, {'id': 'ai_z9W1d1ws', 'name': 'sequin', 'value': 0.22587573528289795, 'app_id': 'main'}, {'id': 'ai_SQx6g7SD', 'name': 'enrichment', 'value': 0.22568035125732422, 'app_id': 'main'}, {'id': 'ai_Qp0fHhgG', 'name': 'season', 'value': 0.22420020401477814, 'app_id': 'main'}, {'id': 'ai_4rqC2FcG', 'name': 'inspiration', 'value': 0.22362923622131348, 'app_id': 'main'}, {'id': 'ai_kCmp6Xzv', 'name': 'awe', 'value': 0.22313255071640015, 'app_id': 'main'}, {'id': 'ai_0JbWBDPd', 'name': 'color', 'value': 0.22110138833522797, 'app_id': 'main'}, {'id': 'ai_bzp3Lg81', 'name': 'human', 'value': 0.21699781715869904, 'app_id': 'main'}, {'id': 'ai_vS89QbDf', 'name': 'embrace', 'value': 0.2163521647453308, 'app_id': 'main'}, {'id': 'ai_HMbtM83l', 'name': 'lantern', 'value': 0.21496285498142242, 'app_id': 'main'}, {'id': 'ai_lswGCQBS', 'name': 'explosion', 'value': 0.2126600742340088, 'app_id': 'main'}, {'id': 'ai_X3wC7VLw', 'name': 'barbecue', 'value': 0.21263426542282104, 'app_id': 'main'}, {'id': 'ai_lPcW4tSX', 'name': 'adolescent', 'value': 0.2120145559310913, 'app_id': 'main'}, {'id': 'ai_w8dV3Fm6', 'name': 'horror', 'value': 0.21173182129859924, 'app_id': 'main'}, {'id': 'ai_hlbBknxP', 'name': 'space', 'value': 0.21068429946899414, 'app_id': 'main'}, {'id': 'ai_lN6KXkcl', 'name': 'dawn', 'value': 0.20992907881736755, 'app_id': 'main'}, {'id': 'ai_XclQc6bP', 'name': 'traditional', 'value': 0.2092856913805008, 'app_id': 'main'}, {'id': 'ai_l4WckcJN', 'name': 'blur', 'value': 0.20367714762687683, 'app_id': 'main'}, {'id': 'ai_Ch3FHSmj', 'name': 'fear', 'value': 0.2020101249217987, 'app_id': 'main'}, {'id': 'ai_mGCvxwTt', 'name': 'hair', 'value': 0.20104444026947021, 'app_id': 'main'}, {'id': 'ai_qGcVvpbV', 'name': 'freedom', 'value': 0.19987604022026062, 'app_id': 'main'}, {'id': 'ai_dvH0wmQz', 'name': 'wooden branch', 'value': 0.19966469705104828, 'app_id': 'main'}, {'id': 'ai_JBPqff8z', 'name': 'art', 'value': 0.19902873039245605, 'app_id': 'main'}, {'id': 'ai_WmhZ8rnj', 'name': 'tree log', 'value': 0.19816482067108154, 'app_id': 'main'}, {'id': 'ai_L3mzGfDT', 'name': 'offspring', 'value': 0.19690056145191193, 'app_id': 'main'}, {'id': 'ai_4lvjn8qv', 'name': 'closeup', 'value': 0.19676358997821808, 'app_id': 'main'}, {'id': 'ai_mZ2tl6cW', 'name': 'health', 'value': 0.19661419093608856, 'app_id': 'main'}, {'id': 'ai_8Qw6PFLZ', 'name': 'recreation', 'value': 0.19449001550674438, 'app_id': 'main'}, {'id': 'ai_PBTpj0kl', 'name': 'park', 'value': 0.19340163469314575, 'app_id': 'main'}, {'id': 'ai_f4vJr60l', 'name': 'ma', 'value': 0.1931353062391281, 'app_id': 'main'}, {'id': 'ai_41s912fX', 'name': 'fair weather', 'value': 0.1920405924320221, 'app_id': 'main'}, {'id': 'ai_TjbmxC6B', 'name': 'tree', 'value': 0.19068863987922668, 'app_id': 'main'}, {'id': 'ai_MK3lrTfd', 'name': 'bizarre', 'value': 0.18947216868400574, 'app_id': 'main'}, {'id': 'ai_ZSKpCCHD', 'name': 'vertical', 'value': 0.18355433642864227, 'app_id': 'main'}, {'id': 'ai_kg24zmx8', 'name': 'boy', 'value': 0.18306630849838257, 'app_id': 'main'}, {'id': 'ai_cMfj16kJ', 'name': 'design', 'value': 0.18251000344753265, 'app_id': 'main'}, {'id': 'ai_1PMps251', 'name': 'brunette', 'value': 0.18067771196365356, 'app_id': 'main'}, {'id': 'ai_PKf7PXkT', 'name': 'heated', 'value': 0.17716220021247864, 'app_id': 'main'}, {'id': 'ai_86sS08Pw', 'name': 'wear', 'value': 0.1755378246307373, 'app_id': 'main'}]\n"
     ]
    }
   ],
   "source": [
    "print(response['outputs'][0]['data']['concepts'])"
   ]
  },
  {
   "cell_type": "code",
   "execution_count": 157,
   "metadata": {
    "scrolled": true
   },
   "outputs": [],
   "source": [
    "concepts_d = response['outputs'][0]['data']['concepts']\n",
    "l = danger_list + missing_list\n",
    "l = ['climb']\n",
    "for concept in concepts_d:\n",
    "    if concept['name'] in l:\n",
    "        print(concept)"
   ]
  },
  {
   "cell_type": "markdown",
   "metadata": {},
   "source": [
    "![alt text](fire_baby.jpg)"
   ]
  },
  {
   "cell_type": "markdown",
   "metadata": {},
   "source": [
    "Need to determine appropriate threshold for each item\n",
    "sleep\n",
    "sit\n",
    "toy\n",
    "knife\n",
    "\n",
    "could put labels on images train some simple classification model then compare with what clarify thinks the probabilities are and take a threshold that predicts the correctly (95%) of the time."
   ]
  },
  {
   "cell_type": "code",
   "execution_count": 106,
   "metadata": {},
   "outputs": [],
   "source": [
    "import sklearn"
   ]
  },
  {
   "cell_type": "code",
   "execution_count": null,
   "metadata": {},
   "outputs": [],
   "source": [
    "sklearn."
   ]
  }
 ],
 "metadata": {
  "kernelspec": {
   "display_name": "Python 3",
   "language": "python",
   "name": "python3"
  },
  "language_info": {
   "codemirror_mode": {
    "name": "ipython",
    "version": 3
   },
   "file_extension": ".py",
   "mimetype": "text/x-python",
   "name": "python",
   "nbconvert_exporter": "python",
   "pygments_lexer": "ipython3",
   "version": "3.6.6"
  }
 },
 "nbformat": 4,
 "nbformat_minor": 2
}
